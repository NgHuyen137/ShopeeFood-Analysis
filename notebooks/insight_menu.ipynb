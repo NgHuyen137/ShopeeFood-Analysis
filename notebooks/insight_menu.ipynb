{
 "cells": [
  {
   "cell_type": "code",
   "execution_count": 1,
   "metadata": {},
   "outputs": [],
   "source": [
    "import psycopg2\n",
    "import pandas as pd\n",
    "import ast\n",
    "import re\n",
    "from sklearn.feature_extraction.text import TfidfVectorizer\n",
    "from sklearn.cluster import DBSCAN\n",
    "from sklearn.metrics.pairwise import cosine_similarity"
   ]
  },
  {
   "cell_type": "code",
   "execution_count": 2,
   "metadata": {},
   "outputs": [],
   "source": [
    "def connect_to_azure_postgres(host, database, user, password, port=5432):\n",
    "    try:\n",
    "        conn = psycopg2.connect(\n",
    "            host=host,\n",
    "            database=database,\n",
    "            user=user,\n",
    "            password=password,\n",
    "            port=port\n",
    "        )\n",
    "        print(\"Kết nối thành công tới Azure PostgreSQL!\")\n",
    "        return conn\n",
    "    except Exception as e:\n",
    "        print(\"Không thể kết nối tới Azure PostgreSQL:\")\n",
    "        print(e)\n",
    "        return None"
   ]
  },
  {
   "cell_type": "code",
   "execution_count": 3,
   "metadata": {},
   "outputs": [],
   "source": [
    "def get_data():\n",
    "    try:\n",
    "        # Kết nối đến PostgreSQL\n",
    "        host = \"shopee.postgres.database.azure.com\"\n",
    "        database = \"delivery_info\"\n",
    "        user = \"Numpy\"\n",
    "        password = \"!Namphuong592003\"\n",
    "        conn = connect_to_azure_postgres(host, database, user, password)\n",
    "        query = \"\"\"\n",
    "            SELECT restaurant_id, menu\n",
    "            FROM menu\n",
    "            WHERE is_current = TRUE;\n",
    "        \"\"\"\n",
    "        df = pd.read_sql_query(query, conn)\n",
    "        return df\n",
    "\n",
    "    except Exception as e:\n",
    "        print(\"Không thể chèn dữ liệu vào Azure PostgreSQL:\")\n",
    "        print(e)\n",
    "    finally:\n",
    "        if conn:\n",
    "            conn.close()"
   ]
  },
  {
   "cell_type": "code",
   "execution_count": 4,
   "metadata": {},
   "outputs": [
    {
     "name": "stdout",
     "output_type": "stream",
     "text": [
      "Kết nối thành công tới Azure PostgreSQL!\n"
     ]
    },
    {
     "name": "stderr",
     "output_type": "stream",
     "text": [
      "/tmp/ipykernel_7197/3720846325.py:14: UserWarning: pandas only supports SQLAlchemy connectable (engine/connection) or database string URI or sqlite3 DBAPI2 connection. Other DBAPI2 objects are not tested. Please consider using SQLAlchemy.\n",
      "  df = pd.read_sql_query(query, conn)\n"
     ]
    }
   ],
   "source": [
    "df_menu = get_data()"
   ]
  },
  {
   "cell_type": "code",
   "execution_count": null,
   "metadata": {},
   "outputs": [],
   "source": [
    "def parse_menu(menu):\n",
    "    return pd.DataFrame(ast.literal_eval(menu))"
   ]
  },
  {
   "cell_type": "code",
   "execution_count": 15,
   "metadata": {},
   "outputs": [],
   "source": [
    "temp = df_menu\n",
    "menu_list = []\n",
    "for _, row in temp.iterrows():\n",
    "    restaurant_id = row['restaurant_id']\n",
    "    menu_items = parse_menu(row['menu'])\n",
    "    menu_list.append(menu_items)\n",
    "\n",
    "menu_df = pd.concat(menu_list, ignore_index=True)"
   ]
  },
  {
   "cell_type": "code",
   "execution_count": null,
   "metadata": {},
   "outputs": [
    {
     "data": {
      "text/html": [
       "<div>\n",
       "<style scoped>\n",
       "    .dataframe tbody tr th:only-of-type {\n",
       "        vertical-align: middle;\n",
       "    }\n",
       "\n",
       "    .dataframe tbody tr th {\n",
       "        vertical-align: top;\n",
       "    }\n",
       "\n",
       "    .dataframe thead th {\n",
       "        text-align: right;\n",
       "    }\n",
       "</style>\n",
       "<table border=\"1\" class=\"dataframe\">\n",
       "  <thead>\n",
       "    <tr style=\"text-align: right;\">\n",
       "      <th></th>\n",
       "      <th>name</th>\n",
       "      <th>price</th>\n",
       "    </tr>\n",
       "  </thead>\n",
       "  <tbody>\n",
       "    <tr>\n",
       "      <th>0</th>\n",
       "      <td>bánh mì</td>\n",
       "      <td>5000</td>\n",
       "    </tr>\n",
       "    <tr>\n",
       "      <th>1</th>\n",
       "      <td>chanh dây</td>\n",
       "      <td>15000</td>\n",
       "    </tr>\n",
       "    <tr>\n",
       "      <th>2</th>\n",
       "      <td>olong</td>\n",
       "      <td>15000</td>\n",
       "    </tr>\n",
       "    <tr>\n",
       "      <th>3</th>\n",
       "      <td>coca</td>\n",
       "      <td>15000</td>\n",
       "    </tr>\n",
       "    <tr>\n",
       "      <th>4</th>\n",
       "      <td>nước suối</td>\n",
       "      <td>8000</td>\n",
       "    </tr>\n",
       "    <tr>\n",
       "      <th>...</th>\n",
       "      <td>...</td>\n",
       "      <td>...</td>\n",
       "    </tr>\n",
       "    <tr>\n",
       "      <th>2604714</th>\n",
       "      <td>watermelon+pineapple juice</td>\n",
       "      <td>40000</td>\n",
       "    </tr>\n",
       "    <tr>\n",
       "      <th>2604715</th>\n",
       "      <td>combo sức khoẻ: 1 bánh mì + 1 nước</td>\n",
       "      <td>22000</td>\n",
       "    </tr>\n",
       "    <tr>\n",
       "      <th>2604716</th>\n",
       "      <td>bánh mì hạt điều - chay</td>\n",
       "      <td>15000</td>\n",
       "    </tr>\n",
       "    <tr>\n",
       "      <th>2604717</th>\n",
       "      <td>nước sả tắc chia</td>\n",
       "      <td>10000</td>\n",
       "    </tr>\n",
       "    <tr>\n",
       "      <th>2604718</th>\n",
       "      <td>trà sữa cà phê ceylon</td>\n",
       "      <td>28000</td>\n",
       "    </tr>\n",
       "  </tbody>\n",
       "</table>\n",
       "<p>2604719 rows × 2 columns</p>\n",
       "</div>"
      ],
      "text/plain": [
       "                                       name  price\n",
       "0                                   bánh mì   5000\n",
       "1                                 chanh dây  15000\n",
       "2                                     olong  15000\n",
       "3                                      coca  15000\n",
       "4                                 nước suối   8000\n",
       "...                                     ...    ...\n",
       "2604714          watermelon+pineapple juice  40000\n",
       "2604715  combo sức khoẻ: 1 bánh mì + 1 nước  22000\n",
       "2604716             bánh mì hạt điều - chay  15000\n",
       "2604717                    nước sả tắc chia  10000\n",
       "2604718               trà sữa cà phê ceylon  28000\n",
       "\n",
       "[2604719 rows x 2 columns]"
      ]
     },
     "execution_count": 16,
     "metadata": {},
     "output_type": "execute_result"
    }
   ],
   "source": [
    "# Chuẩn hóa tên món ăn\n",
    "menu_df['name'] = menu_df['name'].str.strip().str.lower()\n"
   ]
  },
  {
   "cell_type": "code",
   "execution_count": null,
   "metadata": {},
   "outputs": [
    {
     "name": "stdout",
     "output_type": "stream",
     "text": [
      "Top từ khóa phổ biến nhất:\n",
      "         keyword         score\n",
      "1138186      trà  64461.827329\n",
      "1044207      sữa  43913.982267\n",
      "1146563  trà sữa  26902.833136\n",
      "98214       bánh  26110.215011\n",
      "820993      nước  24815.473226\n",
      "329675       cơm  24553.927533\n",
      "116724        bò  23524.379661\n",
      "441559        gà  22488.173898\n",
      "715478        mì  21691.497966\n",
      "1339283       ép  19646.884473\n"
     ]
    }
   ],
   "source": [
    "# 1. Chuẩn bị dữ liệu text\n",
    "names = menu_df['name'].values\n",
    "\n",
    "# 2. Áp dụng TF-IDF\n",
    "tfidf_vectorizer = TfidfVectorizer(analyzer='word', ngram_range=(1, 3))\n",
    "tfidf_matrix = tfidf_vectorizer.fit_transform(names)\n",
    "\n",
    "# Lấy từ điển các từ khóa và trọng số của chúng\n",
    "feature_names = tfidf_vectorizer.get_feature_names_out()\n",
    "tfidf_scores = tfidf_matrix.sum(axis=0).A1  # Tổng trọng số của từng từ trong toàn bộ tập\n",
    "\n",
    "# Tạo DataFrame để phân tích\n",
    "tfidf_df = pd.DataFrame({\n",
    "    \"keyword\": feature_names,\n",
    "    \"score\": tfidf_scores\n",
    "}).sort_values(by=\"score\", ascending=False)\n",
    "\n",
    "tfidf_df_filtered = tfidf_df[tfidf_df['keyword'].apply(lambda x: len(x.split()) >= 2)]\n",
    "# Sắp xếp theo điểm số TF-IDF\n",
    "tfidf_df_filtered = tfidf_df_filtered.sort_values(by=\"score\", ascending=False)\n",
    "\n",
    "# 4. In kết quả\n",
    "print(\"Top từ khóa phổ biến (2 từ trở lên):\")\n",
    "print(tfidf_df_filtered.head(10))"
   ]
  }
 ],
 "metadata": {
  "kernelspec": {
   "display_name": "min_ds-env",
   "language": "python",
   "name": "python3"
  },
  "language_info": {
   "codemirror_mode": {
    "name": "ipython",
    "version": 3
   },
   "file_extension": ".py",
   "mimetype": "text/x-python",
   "name": "python",
   "nbconvert_exporter": "python",
   "pygments_lexer": "ipython3",
   "version": "3.10.8"
  }
 },
 "nbformat": 4,
 "nbformat_minor": 2
}
