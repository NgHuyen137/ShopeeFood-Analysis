{
 "cells": [
  {
   "cell_type": "markdown",
   "metadata": {},
   "source": [
    "**Import libraries**"
   ]
  },
  {
   "cell_type": "code",
   "execution_count": 1,
   "metadata": {},
   "outputs": [],
   "source": [
    "import ast\n",
    "import pandas as pd"
   ]
  },
  {
   "cell_type": "markdown",
   "metadata": {},
   "source": [
    "**Read data**"
   ]
  },
  {
   "cell_type": "code",
   "execution_count": 2,
   "metadata": {},
   "outputs": [
    {
     "data": {
      "text/html": [
       "<div>\n",
       "<style scoped>\n",
       "    .dataframe tbody tr th:only-of-type {\n",
       "        vertical-align: middle;\n",
       "    }\n",
       "\n",
       "    .dataframe tbody tr th {\n",
       "        vertical-align: top;\n",
       "    }\n",
       "\n",
       "    .dataframe thead th {\n",
       "        text-align: right;\n",
       "    }\n",
       "</style>\n",
       "<table border=\"1\" class=\"dataframe\">\n",
       "  <thead>\n",
       "    <tr style=\"text-align: right;\">\n",
       "      <th></th>\n",
       "      <th>id</th>\n",
       "      <th>total_review</th>\n",
       "      <th>avg</th>\n",
       "      <th>display_total_review</th>\n",
       "      <th>city_id</th>\n",
       "      <th>restaurant_id</th>\n",
       "      <th>name</th>\n",
       "      <th>categories</th>\n",
       "      <th>cuisines</th>\n",
       "      <th>address</th>\n",
       "      <th>min_order_value</th>\n",
       "      <th>price_range</th>\n",
       "      <th>is_quality_merchant</th>\n",
       "      <th>latitude</th>\n",
       "      <th>longitude</th>\n",
       "      <th>brand_id</th>\n",
       "      <th>brand_name</th>\n",
       "      <th>open_time</th>\n",
       "      <th>close_time</th>\n",
       "      <th>url</th>\n",
       "    </tr>\n",
       "  </thead>\n",
       "  <tbody>\n",
       "    <tr>\n",
       "      <th>0</th>\n",
       "      <td>2006</td>\n",
       "      <td>500</td>\n",
       "      <td>4.6</td>\n",
       "      <td>500+</td>\n",
       "      <td>218</td>\n",
       "      <td>67319</td>\n",
       "      <td>Luna Steak &amp; Pasta</td>\n",
       "      <td>Quán ăn</td>\n",
       "      <td>Món Âu</td>\n",
       "      <td>236 Đội Cấn, Ba Đình, Hà Nội</td>\n",
       "      <td>{'resource_name': 'delivery_order_minimum', 'r...</td>\n",
       "      <td>{'resource_name': 'avg_price_format', 'resourc...</td>\n",
       "      <td>False</td>\n",
       "      <td>21.035283</td>\n",
       "      <td>105.819824</td>\n",
       "      <td>0</td>\n",
       "      <td>NaN</td>\n",
       "      <td>09:30:00</td>\n",
       "      <td>21:45:59</td>\n",
       "      <td>https://shopeefood.vn/ha-noi/luna-steak-pasta</td>\n",
       "    </tr>\n",
       "    <tr>\n",
       "      <th>1</th>\n",
       "      <td>2027</td>\n",
       "      <td>100</td>\n",
       "      <td>4.8</td>\n",
       "      <td>100+</td>\n",
       "      <td>218</td>\n",
       "      <td>5411</td>\n",
       "      <td>Mochi Sweets - Bùi Thị Xuân</td>\n",
       "      <td>Tiệm bánh</td>\n",
       "      <td>Món Nhật, Món Á</td>\n",
       "      <td>148 Bùi Thị Xuân, P. Bùi Thị Xuân, Hai Bà Trưn...</td>\n",
       "      <td>{'resource_name': 'delivery_order_minimum', 'r...</td>\n",
       "      <td>{'resource_name': 'avg_price_format', 'resourc...</td>\n",
       "      <td>False</td>\n",
       "      <td>21.012153</td>\n",
       "      <td>105.849789</td>\n",
       "      <td>2927</td>\n",
       "      <td>Bánh Mochi Sweets - Hà Nội</td>\n",
       "      <td>09:00:00</td>\n",
       "      <td>22:00:59</td>\n",
       "      <td>https://shopeefood.vn/ha-noi/mochi-sweets-bui-...</td>\n",
       "    </tr>\n",
       "    <tr>\n",
       "      <th>2</th>\n",
       "      <td>2052</td>\n",
       "      <td>1000</td>\n",
       "      <td>4.6</td>\n",
       "      <td>999+</td>\n",
       "      <td>218</td>\n",
       "      <td>88765</td>\n",
       "      <td>Cơm Rang Ngõ Tràng Tiền</td>\n",
       "      <td>Quán ăn</td>\n",
       "      <td>Món Việt</td>\n",
       "      <td>8 Ngõ Tràng Tiền, P. Tràng Tiền, Hoàn Kiếm, Hà...</td>\n",
       "      <td>{'resource_name': 'delivery_order_minimum', 'r...</td>\n",
       "      <td>{'resource_name': 'avg_price_format', 'resourc...</td>\n",
       "      <td>True</td>\n",
       "      <td>21.024030</td>\n",
       "      <td>105.856481</td>\n",
       "      <td>0</td>\n",
       "      <td>NaN</td>\n",
       "      <td>07:00:00</td>\n",
       "      <td>14:00:59</td>\n",
       "      <td>https://shopeefood.vn/ha-noi/com-rang-ngo-tran...</td>\n",
       "    </tr>\n",
       "    <tr>\n",
       "      <th>3</th>\n",
       "      <td>2067</td>\n",
       "      <td>1000</td>\n",
       "      <td>4.9</td>\n",
       "      <td>999+</td>\n",
       "      <td>218</td>\n",
       "      <td>134242</td>\n",
       "      <td>Bé Bự Quán - Đặng Văn Ngữ</td>\n",
       "      <td>Quán ăn</td>\n",
       "      <td>Món Việt</td>\n",
       "      <td>79 - 81 Đặng Văn Ngữ, Đống Đa, Hà Nội</td>\n",
       "      <td>{'resource_name': 'delivery_order_minimum', 'r...</td>\n",
       "      <td>{'resource_name': 'avg_price_format', 'resourc...</td>\n",
       "      <td>False</td>\n",
       "      <td>21.009999</td>\n",
       "      <td>105.831150</td>\n",
       "      <td>0</td>\n",
       "      <td>NaN</td>\n",
       "      <td>07:30:00</td>\n",
       "      <td>20:37:00</td>\n",
       "      <td>https://shopeefood.vn/ha-noi/be-bu-quan-dang-v...</td>\n",
       "    </tr>\n",
       "    <tr>\n",
       "      <th>4</th>\n",
       "      <td>2090</td>\n",
       "      <td>4</td>\n",
       "      <td>0.0</td>\n",
       "      <td>4</td>\n",
       "      <td>217</td>\n",
       "      <td>176862</td>\n",
       "      <td>Út Nhỏ - Bông Lan Trứng Muối</td>\n",
       "      <td>Tiệm bánh</td>\n",
       "      <td>Món Việt</td>\n",
       "      <td>95 Đất Thánh, P. 6, Tân Bình, TP. HCM</td>\n",
       "      <td>{'resource_name': 'delivery_order_minimum', 'r...</td>\n",
       "      <td>{'resource_name': 'avg_price_format', 'resourc...</td>\n",
       "      <td>False</td>\n",
       "      <td>10.783244</td>\n",
       "      <td>106.658182</td>\n",
       "      <td>0</td>\n",
       "      <td>NaN</td>\n",
       "      <td>08:00:00</td>\n",
       "      <td>21:00:00</td>\n",
       "      <td>https://shopeefood.vn/ho-chi-minh/an-vat-ut-nho</td>\n",
       "    </tr>\n",
       "  </tbody>\n",
       "</table>\n",
       "</div>"
      ],
      "text/plain": [
       "     id  total_review  avg display_total_review  city_id  restaurant_id  \\\n",
       "0  2006           500  4.6                 500+      218          67319   \n",
       "1  2027           100  4.8                 100+      218           5411   \n",
       "2  2052          1000  4.6                 999+      218          88765   \n",
       "3  2067          1000  4.9                 999+      218         134242   \n",
       "4  2090             4  0.0                    4      217         176862   \n",
       "\n",
       "                           name categories         cuisines  \\\n",
       "0            Luna Steak & Pasta    Quán ăn           Món Âu   \n",
       "1   Mochi Sweets - Bùi Thị Xuân  Tiệm bánh  Món Nhật, Món Á   \n",
       "2       Cơm Rang Ngõ Tràng Tiền    Quán ăn         Món Việt   \n",
       "3     Bé Bự Quán - Đặng Văn Ngữ    Quán ăn         Món Việt   \n",
       "4  Út Nhỏ - Bông Lan Trứng Muối  Tiệm bánh         Món Việt   \n",
       "\n",
       "                                             address  \\\n",
       "0                       236 Đội Cấn, Ba Đình, Hà Nội   \n",
       "1  148 Bùi Thị Xuân, P. Bùi Thị Xuân, Hai Bà Trưn...   \n",
       "2  8 Ngõ Tràng Tiền, P. Tràng Tiền, Hoàn Kiếm, Hà...   \n",
       "3              79 - 81 Đặng Văn Ngữ, Đống Đa, Hà Nội   \n",
       "4              95 Đất Thánh, P. 6, Tân Bình, TP. HCM   \n",
       "\n",
       "                                     min_order_value  \\\n",
       "0  {'resource_name': 'delivery_order_minimum', 'r...   \n",
       "1  {'resource_name': 'delivery_order_minimum', 'r...   \n",
       "2  {'resource_name': 'delivery_order_minimum', 'r...   \n",
       "3  {'resource_name': 'delivery_order_minimum', 'r...   \n",
       "4  {'resource_name': 'delivery_order_minimum', 'r...   \n",
       "\n",
       "                                         price_range  is_quality_merchant  \\\n",
       "0  {'resource_name': 'avg_price_format', 'resourc...                False   \n",
       "1  {'resource_name': 'avg_price_format', 'resourc...                False   \n",
       "2  {'resource_name': 'avg_price_format', 'resourc...                 True   \n",
       "3  {'resource_name': 'avg_price_format', 'resourc...                False   \n",
       "4  {'resource_name': 'avg_price_format', 'resourc...                False   \n",
       "\n",
       "    latitude   longitude  brand_id                  brand_name open_time  \\\n",
       "0  21.035283  105.819824         0                         NaN  09:30:00   \n",
       "1  21.012153  105.849789      2927  Bánh Mochi Sweets - Hà Nội  09:00:00   \n",
       "2  21.024030  105.856481         0                         NaN  07:00:00   \n",
       "3  21.009999  105.831150         0                         NaN  07:30:00   \n",
       "4  10.783244  106.658182         0                         NaN  08:00:00   \n",
       "\n",
       "  close_time                                                url  \n",
       "0   21:45:59      https://shopeefood.vn/ha-noi/luna-steak-pasta  \n",
       "1   22:00:59  https://shopeefood.vn/ha-noi/mochi-sweets-bui-...  \n",
       "2   14:00:59  https://shopeefood.vn/ha-noi/com-rang-ngo-tran...  \n",
       "3   20:37:00  https://shopeefood.vn/ha-noi/be-bu-quan-dang-v...  \n",
       "4   21:00:00    https://shopeefood.vn/ho-chi-minh/an-vat-ut-nho  "
      ]
     },
     "execution_count": 2,
     "metadata": {},
     "output_type": "execute_result"
    }
   ],
   "source": [
    "data = pd.read_csv(\"./data/delivery_info.csv\")\n",
    "data.head()"
   ]
  },
  {
   "cell_type": "code",
   "execution_count": 3,
   "metadata": {},
   "outputs": [
    {
     "name": "stdout",
     "output_type": "stream",
     "text": [
      "<class 'pandas.core.frame.DataFrame'>\n",
      "RangeIndex: 218641 entries, 0 to 218640\n",
      "Data columns (total 20 columns):\n",
      " #   Column                Non-Null Count   Dtype  \n",
      "---  ------                --------------   -----  \n",
      " 0   id                    218641 non-null  int64  \n",
      " 1   total_review          218641 non-null  int64  \n",
      " 2   avg                   218641 non-null  float64\n",
      " 3   display_total_review  218641 non-null  object \n",
      " 4   city_id               218641 non-null  int64  \n",
      " 5   restaurant_id         218641 non-null  int64  \n",
      " 6   name                  218641 non-null  object \n",
      " 7   categories            218640 non-null  object \n",
      " 8   cuisines              112358 non-null  object \n",
      " 9   address               218641 non-null  object \n",
      " 10  min_order_value       218641 non-null  object \n",
      " 11  price_range           218641 non-null  object \n",
      " 12  is_quality_merchant   218641 non-null  bool   \n",
      " 13  latitude              218641 non-null  float64\n",
      " 14  longitude             218641 non-null  float64\n",
      " 15  brand_id              218641 non-null  int64  \n",
      " 16  brand_name            31581 non-null   object \n",
      " 17  open_time             100546 non-null  object \n",
      " 18  close_time            100546 non-null  object \n",
      " 19  url                   218641 non-null  object \n",
      "dtypes: bool(1), float64(3), int64(5), object(11)\n",
      "memory usage: 31.9+ MB\n"
     ]
    }
   ],
   "source": [
    "data.info()"
   ]
  },
  {
   "cell_type": "markdown",
   "metadata": {},
   "source": [
    "**Filter rows**"
   ]
  },
  {
   "cell_type": "code",
   "execution_count": 4,
   "metadata": {},
   "outputs": [],
   "source": [
    "data = data[data[\"city_id\"] == 217]"
   ]
  },
  {
   "cell_type": "markdown",
   "metadata": {},
   "source": [
    "**Drop columns**"
   ]
  },
  {
   "cell_type": "code",
   "execution_count": 5,
   "metadata": {},
   "outputs": [],
   "source": [
    "data = data.drop(columns=[\"display_total_review\", \"city_id\", \"min_order_value\", \"open_time\", \"close_time\"])"
   ]
  },
  {
   "cell_type": "markdown",
   "metadata": {},
   "source": [
    "**Create new columns**"
   ]
  },
  {
   "cell_type": "code",
   "execution_count": 6,
   "metadata": {},
   "outputs": [],
   "source": [
    "data[\"district\"] = data[\"address\"].map(lambda item: item.split(\", \")[-2])\n",
    "data = data.drop(columns=\"address\")"
   ]
  },
  {
   "cell_type": "code",
   "execution_count": 7,
   "metadata": {},
   "outputs": [],
   "source": [
    "data[\"avg_price\"] = data[\"price_range\"].map(lambda item: int(ast.literal_eval(item)[\"resource_args\"][0][:2]))\n",
    "data = data.drop(columns=\"price_range\")"
   ]
  },
  {
   "cell_type": "code",
   "execution_count": 8,
   "metadata": {},
   "outputs": [],
   "source": [
    "n_categories = data[\"categories\"].value_counts()\n",
    "mask = n_categories == 1\n",
    "data = data[(data[\"categories\"] != \"Bank - ATM\") & (data[\"categories\"] != \"Rạp chiếu phim\")]\n",
    "data = data[~data[\"categories\"].isin(n_categories[mask.values].index)]\n",
    "\n",
    "# data[\"category_1\"] = data[\"categories\"].map(lambda item: item.split(\", \")[0])\n",
    "# data[\"category_2\"] = data[\"categories\"].map(lambda item: item.split(\", \")[1] if len(item.split(\", \")) == 2 else \"Unknown\")\n",
    "\n",
    "# data = data.drop(columns=\"categories\")"
   ]
  },
  {
   "cell_type": "markdown",
   "metadata": {},
   "source": [
    "**Fill missing values**"
   ]
  },
  {
   "cell_type": "code",
   "execution_count": 9,
   "metadata": {},
   "outputs": [],
   "source": [
    "data[\"brand_name\"] = data[\"brand_name\"].fillna(\"Unknown\")"
   ]
  },
  {
   "cell_type": "code",
   "execution_count": 10,
   "metadata": {},
   "outputs": [],
   "source": [
    "data[\"cuisines\"] = data[\"cuisines\"].fillna(\"Unknown\")"
   ]
  },
  {
   "cell_type": "markdown",
   "metadata": {},
   "source": [
    "**Save to csv file**"
   ]
  },
  {
   "cell_type": "code",
   "execution_count": 11,
   "metadata": {},
   "outputs": [],
   "source": [
    "data.to_csv(\"./data/delivery_info_clean.csv\", index=False)"
   ]
  }
 ],
 "metadata": {
  "kernelspec": {
   "display_name": "min_ds-env",
   "language": "python",
   "name": "python3"
  },
  "language_info": {
   "codemirror_mode": {
    "name": "ipython",
    "version": 3
   },
   "file_extension": ".py",
   "mimetype": "text/x-python",
   "name": "python",
   "nbconvert_exporter": "python",
   "pygments_lexer": "ipython3",
   "version": "3.10.8"
  }
 },
 "nbformat": 4,
 "nbformat_minor": 2
}
